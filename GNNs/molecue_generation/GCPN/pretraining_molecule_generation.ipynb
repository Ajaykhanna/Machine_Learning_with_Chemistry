{
 "cells": [
  {
   "cell_type": "markdown",
   "metadata": {},
   "source": [
    "## Generative Model: GCPN\n",
    "___\n",
    "\n",
    "Graph Generation using GCPN on the ZINC250k Dataset.\n",
    "\n",
    "This script demonstrates the use of the Graph Convolutional Policy Network (GCPN)\n",
    "to perform graph generation on the ZINC250k dataset. It initializes an RGCN model,\n",
    "sets up a graph generation task, trains the model for one epoch, saves the trained model,\n",
    "and then loads the trained model to generate molecule samples, which are printed in the SMILES format.\n",
    "\n",
    "Dependencies:\n",
    "- torch\n",
    "- torchdrug\n",
    "\n",
    "Date: Sep.23.2023\n",
    "Place: UC Merced"
   ]
  },
  {
   "cell_type": "code",
   "execution_count": null,
   "metadata": {},
   "outputs": [],
   "source": [
    "import torch\n",
    "from torch import nn, optim\n",
    "from torchdrug import datasets\n",
    "from torchdrug import core, models, tasks"
   ]
  },
  {
   "cell_type": "code",
   "execution_count": null,
   "metadata": {},
   "outputs": [],
   "source": [
    "dataset = datasets.ZINC250k(\"~/molecule-datasets/\", kekulize=True,\n",
    "                            atom_feature=\"symbol\")"
   ]
  },
  {
   "cell_type": "code",
   "execution_count": null,
   "metadata": {},
   "outputs": [],
   "source": [
    "model = models.RGCN(\n",
    "    input_dim=dataset.node_feature_dim,\n",
    "    num_relation=dataset.num_bond_type,\n",
    "    hidden_dims=[256, 256, 256, 256],\n",
    "    batch_norm=False,\n",
    ")\n",
    "\n",
    "task = tasks.GCPNGeneration(\n",
    "    model, dataset.atom_types, max_edge_unroll=12, max_node=38, criterion=\"nll\"\n",
    ")\n"
   ]
  },
  {
   "cell_type": "code",
   "execution_count": null,
   "metadata": {},
   "outputs": [],
   "source": [
    "optimizer = optim.Adam(task.parameters(), lr=1e-3)\n",
    "solver = core.Engine(\n",
    "    task, dataset, None, None, optimizer, gpus=(0,), batch_size=128, log_interval=10\n",
    ")\n",
    "\n",
    "solver.train(num_epoch=1)\n",
    "solver.save(\"path_to_dump/graphgeneration/gcpn_zinc250k_1epoch.pkl\")\n"
   ]
  },
  {
   "cell_type": "code",
   "execution_count": null,
   "metadata": {},
   "outputs": [],
   "source": [
    "solver.load(\"path_to_dump/graphgeneration/gcpn_zinc250k_1epoch.pkl\")\n",
    "results = task.generate(num_sample=32, max_resample=5)\n",
    "print(results.to_smiles())\n"
   ]
  }
 ],
 "metadata": {
  "kernelspec": {
   "display_name": "base",
   "language": "python",
   "name": "python3"
  },
  "language_info": {
   "codemirror_mode": {
    "name": "ipython",
    "version": 3
   },
   "file_extension": ".py",
   "mimetype": "text/x-python",
   "name": "python",
   "nbconvert_exporter": "python",
   "pygments_lexer": "ipython3",
   "version": "3.11.4"
  },
  "orig_nbformat": 4
 },
 "nbformat": 4,
 "nbformat_minor": 2
}
