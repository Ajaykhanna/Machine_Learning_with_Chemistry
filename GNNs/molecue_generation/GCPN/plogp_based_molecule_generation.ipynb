{
 "cells": [
  {
   "cell_type": "markdown",
   "metadata": {},
   "source": [
    "## Goal-Directed Molecule Generation with Reinforcement Learning: GCPN --> pLOGP\n",
    "___\n",
    "Goal-Directed Molecule Generation with Reinforcement Learning using GCPN.\n",
    "\n",
    "This script showcases the application of the Graph Convolutional Policy Network (GCPN)\n",
    "for goal-directed molecule generation on the ZINC250k dataset. The aim is to use reinforcement\n",
    "learning to direct the model to generate molecules with specific properties. \n",
    "After loading the dataset and initializing the model, we employ the Proximal Policy Optimization (PPO)\n",
    "algorithm as our RL criterion. The model is then fine-tuned, and the final results \n",
    "are displayed in the SMILES format.\n",
    "\n",
    "Dependencies:\n",
    "- torch\n",
    "- torchdrug\n",
    "\n",
    "Date: Sep.23.2023 \\\n",
    "Place: UC Merced"
   ]
  },
  {
   "cell_type": "code",
   "execution_count": null,
   "metadata": {},
   "outputs": [],
   "source": [
    "import torch\n",
    "from torchdrug import core, datasets, models, tasks\n",
    "from torch import nn, optim\n",
    "from collections import defaultdict"
   ]
  },
  {
   "cell_type": "code",
   "execution_count": null,
   "metadata": {},
   "outputs": [],
   "source": [
    "dataset = datasets.ZINC250k(\n",
    "    \"~/molecule-datasets/\", kekulize=True, atom_feature=\"symbol\"\n",
    ")\n",
    "\n",
    "model = models.RGCN(\n",
    "    input_dim=dataset.node_feature_dim,\n",
    "    num_relation=dataset.num_bond_type,\n",
    "    hidden_dims=[256, 256, 256, 256],\n",
    "    batch_norm=False,\n",
    ")\n",
    "task = tasks.GCPNGeneration(\n",
    "    model,\n",
    "    dataset.atom_types,\n",
    "    max_edge_unroll=12,\n",
    "    max_node=38,\n",
    "    task=\"plogp\",\n",
    "    criterion=\"ppo\",\n",
    "    reward_temperature=1,\n",
    "    agent_update_interval=3,\n",
    "    gamma=0.9,\n",
    ")\n"
   ]
  },
  {
   "cell_type": "code",
   "execution_count": null,
   "metadata": {},
   "outputs": [],
   "source": [
    "optimizer = optim.Adam(task.parameters(), lr=1e-5)\n",
    "solver = core.Engine(\n",
    "    task, dataset, None, None, optimizer, gpus=(0,), batch_size=16, log_interval=10\n",
    ")\n",
    "\n",
    "solver.load(\n",
    "    \"/home/akhanna2/data/git_stage/machine_learning_with_chemistry/torch_drug/molecule_generation/gcpn/graphgeneration/gcpn_zinc250k_1epoch.pkl\",\n",
    "    load_optimizer=False,\n",
    ")"
   ]
  },
  {
   "cell_type": "code",
   "execution_count": null,
   "metadata": {},
   "outputs": [],
   "source": [
    "# RL finetuning\n",
    "solver.train(num_epoch=10)\n",
    "solver.save(\n",
    "    \"/home/akhanna2/data/git_stage/machine_learning_with_chemistry/torch_drug/molecule_generation/gcpn/graphgeneration/gcpn_zinc250k_1epoch_finetune_pLOGP.pkl\"\n",
    ")"
   ]
  },
  {
   "cell_type": "code",
   "execution_count": null,
   "metadata": {},
   "outputs": [],
   "source": [
    "results = task.generate(num_sample=32, max_resample=5)\n",
    "print(results.to_smiles())\n"
   ]
  }
 ],
 "metadata": {
  "language_info": {
   "name": "python"
  },
  "orig_nbformat": 4
 },
 "nbformat": 4,
 "nbformat_minor": 2
}
