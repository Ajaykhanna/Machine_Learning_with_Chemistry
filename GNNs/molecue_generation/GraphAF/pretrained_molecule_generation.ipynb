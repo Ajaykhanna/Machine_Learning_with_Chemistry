{
 "cells": [
  {
   "cell_type": "markdown",
   "metadata": {},
   "source": [
    "## Generative Model: GraphAF\n",
    "___\n",
    "The model consists of two parts, a graph representation model and a graph generative module. We define a Relational Graph Convolutional Networks (RGCN) as our representation model. We use the module AutoregressiveGeneration as the training task for GraphAF. The task consists of a node flow model and an edge flow model, which define invertible mapping between node / edge types and noise distributions."
   ]
  },
  {
   "cell_type": "code",
   "execution_count": null,
   "metadata": {},
   "outputs": [],
   "source": [
    "from torchdrug import core, datasets, models, tasks\n",
    "from torchdrug.layers import distribution\n",
    "from torch import nn, optim\n",
    "from collections import defaultdict"
   ]
  },
  {
   "cell_type": "code",
   "execution_count": null,
   "metadata": {},
   "outputs": [],
   "source": [
    "dataset = datasets.ZINC250k(\n",
    "    \"~/molecule-datasets/\", kekulize=True, atom_feature=\"symbol\"\n",
    ")\n",
    "\n",
    "model = models.RGCN(\n",
    "    input_dim=dataset.num_atom_type,\n",
    "    num_relation=dataset.num_bond_type,\n",
    "    hidden_dims=[256, 256, 256],\n",
    "    batch_norm=True,\n",
    ")\n",
    "\n",
    "num_atom_type = dataset.num_atom_type\n",
    "# add one class for non-edge\n",
    "num_bond_type = dataset.num_bond_type + 1\n",
    "\n",
    "node_prior = distribution.IndependentGaussian(\n",
    "    torch.zeros(num_atom_type), torch.ones(num_atom_type)\n",
    ")\n",
    "edge_prior = distribution.IndependentGaussian(\n",
    "    torch.zeros(num_bond_type), torch.ones(num_bond_type)\n",
    ")\n",
    "node_flow = models.GraphAF(model, node_prior, num_layer=12)\n",
    "edge_flow = models.GraphAF(model, edge_prior, use_edge=True, num_layer=12)\n",
    "\n",
    "task = tasks.AutoregressiveGeneration(\n",
    "    node_flow, edge_flow, max_node=38, max_edge_unroll=12, criterion=\"nll\"\n",
    ")\n"
   ]
  },
  {
   "cell_type": "code",
   "execution_count": null,
   "metadata": {},
   "outputs": [],
   "source": [
    "optimizer = optim.Adam(task.parameters(), lr=1e-3)\n",
    "solver = core.Engine(\n",
    "    task, dataset, None, None, optimizer, gpus=(0,), batch_size=128, log_interval=10\n",
    ")\n",
    "\n",
    "solver.train(num_epoch=10)\n",
    "solver.save(\n",
    "    \"/home/akhanna2/data/git_stage/machine_learning_with_chemistry/torch_drug/molecule_generation/graphAF/graphaf_zinc250k_10epoch.pkl\"\n",
    ")\n"
   ]
  },
  {
   "cell_type": "code",
   "execution_count": null,
   "metadata": {},
   "outputs": [],
   "source": [
    "solver.load(\n",
    "    \"/home/akhanna2/data/git_stage/machine_learning_with_chemistry/torch_drug/molecule_generation/graphAF/graphaf_zinc250k_10epoch.pkl\"\n",
    ")\n",
    "results = task.generate(num_sample=32)\n",
    "print(results.to_smiles())\n"
   ]
  }
 ],
 "metadata": {
  "language_info": {
   "name": "python"
  },
  "orig_nbformat": 4
 },
 "nbformat": 4,
 "nbformat_minor": 2
}
