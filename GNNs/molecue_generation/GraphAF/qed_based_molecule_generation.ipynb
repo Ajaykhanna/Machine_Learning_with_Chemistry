{
 "cells": [
  {
   "cell_type": "markdown",
   "metadata": {},
   "source": [
    "## Goal-Directed Molecule Generation with Reinforcement Learning: GraphAF --> QED\n",
    "___\n",
    "Goal-Directed Molecule Generation with Reinforcement Learning using GraphAF for QED\n",
    "\n",
    "This script uses the Graph Autoregressive Flow (GraphAF) model to produce molecules\n",
    "optimized for the Quantitative Estimation of Drug-likeness (QED) score.\n",
    "\n",
    "The script:\n",
    "1. Loads the ZINC250k dataset.\n",
    "2. Defines the GraphAF model.\n",
    "3. Loads a pretrained model.\n",
    "4. Fine-tunes the model using reinforcement learning with a focus on maximizing the QED score.\n",
    "5. Generates molecules using the fine-tuned model.\n",
    "\n",
    "Usage:\n",
    "    python <script_name.py>\n",
    "\n",
    "Outputs:\n",
    "    A `.pkl` model file after fine-tuning and generated molecule SMILES strings."
   ]
  },
  {
   "cell_type": "code",
   "execution_count": null,
   "metadata": {},
   "outputs": [],
   "source": [
    "import torch\n",
    "from torchdrug import core, datasets, models, tasks\n",
    "from torchdrug.layers import distribution\n",
    "from torch import nn, optim\n",
    "from collections import defaultdict"
   ]
  },
  {
   "cell_type": "code",
   "execution_count": null,
   "metadata": {},
   "outputs": [],
   "source": [
    "dataset = datasets.ZINC250k(\n",
    "    \"~/molecule-datasets/\", kekulize=True, atom_feature=\"symbol\"\n",
    ")\n",
    "\n",
    "dataset = datasets.ZINC250k(\n",
    "    \"~/molecule-datasets/\", kekulize=True, atom_feature=\"symbol\"\n",
    ")\n",
    "\n",
    "model = models.RGCN(\n",
    "    input_dim=dataset.num_atom_type,\n",
    "    num_relation=dataset.num_bond_type,\n",
    "    hidden_dims=[256, 256, 256],\n",
    "    batch_norm=True,\n",
    ")\n",
    "\n",
    "num_atom_type = dataset.num_atom_type\n",
    "# add one class for non-edge\n",
    "num_bond_type = dataset.num_bond_type + 1\n",
    "\n",
    "node_prior = distribution.IndependentGaussian(\n",
    "    torch.zeros(num_atom_type), torch.ones(num_atom_type)\n",
    ")\n",
    "edge_prior = distribution.IndependentGaussian(\n",
    "    torch.zeros(num_bond_type), torch.ones(num_bond_type)\n",
    ")\n",
    "node_flow = models.GraphAF(model, node_prior, num_layer=12)\n",
    "edge_flow = models.GraphAF(model, edge_prior, use_edge=True, num_layer=12)\n",
    "\n",
    "task = tasks.AutoregressiveGeneration(\n",
    "    node_flow,\n",
    "    edge_flow,\n",
    "    max_node=38,\n",
    "    max_edge_unroll=12,\n",
    "    task=\"qed\",\n",
    "    criterion={\"ppo\": 0.25, \"nll\": 1.0},\n",
    "    reward_temperature=10,\n",
    "    baseline_momentum=0.9,\n",
    "    agent_update_interval=5,\n",
    "    gamma=0.9,\n",
    ")\n"
   ]
  },
  {
   "cell_type": "code",
   "execution_count": null,
   "metadata": {},
   "outputs": [],
   "source": [
    "optimizer = optim.Adam(task.parameters(), lr=1e-5)\n",
    "solver = core.Engine(\n",
    "    task, dataset, None, None, optimizer, gpus=(0,), batch_size=64, log_interval=10\n",
    ")\n",
    "\n",
    "solver.load(\n",
    "    \"/home/akhanna2/data/git_stage/machine_learning_with_chemistry/torch_drug/molecule_generation/graphAF/graphaf_zinc250k_10epoch.pkl\",\n",
    "    load_optimizer=False,\n",
    ")\n",
    "\n",
    "# RL finetuning\n",
    "solver.train(num_epoch=10)\n",
    "solver.save(\n",
    "    \"/home/akhanna2/data/git_stage/machine_learning_with_chemistry/torch_drug/molecule_generation/graphAF/graphaf_zinc250k_10epoch_finetune_qed.pkl\"\n",
    ")"
   ]
  },
  {
   "cell_type": "code",
   "execution_count": null,
   "metadata": {},
   "outputs": [],
   "source": [
    "solver.load(\n",
    "    \"/home/akhanna2/data/git_stage/machine_learning_with_chemistry/torch_drug/molecule_generation/graphAF/graphaf_zinc250k_10epoch_finetune_qed.pkl\"\n",
    ")\n",
    "results = task.generate(num_sample=32)\n",
    "print(results.to_smiles())\n"
   ]
  }
 ],
 "metadata": {
  "language_info": {
   "name": "python"
  },
  "orig_nbformat": 4
 },
 "nbformat": 4,
 "nbformat_minor": 2
}
