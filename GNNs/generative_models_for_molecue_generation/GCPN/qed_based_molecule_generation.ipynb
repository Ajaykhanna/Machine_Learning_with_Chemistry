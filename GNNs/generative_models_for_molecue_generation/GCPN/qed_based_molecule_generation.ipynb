{
 "cells": [
  {
   "cell_type": "markdown",
   "metadata": {},
   "source": [
    "## Goal-Directed Molecule Generation with Reinforcement Learning: GCPN --> QED\n",
    "___\n",
    "Goal-Directed Molecule Generation using GCPN for the Quantitative Estimation of Drug-likeness (QED) task.\n",
    "\n",
    "This script demonstrates the application of the Graph Convolutional Policy Network (GCPN) \n",
    "for generating molecules with a focus on maximizing their drug-likeness as assessed by the QED score.\n",
    "The ZINC250k dataset is utilized, and the model is configured for a combination of Proximal Policy Optimization (PPO) \n",
    "and negative log-likelihood (NLL) as the criterion for reinforcement learning. \n",
    "After model initialization and configuration, a pre-trained model is loaded, further fine-tuned for the QED task, \n",
    "and the results are displayed in the SMILES format.\n",
    "\n",
    "Dependencies:\n",
    "- torch\n",
    "- torchdrug\n",
    "\n",
    "Date: Sep.23.2023 \\\n",
    "Place: UC Merced"
   ]
  },
  {
   "cell_type": "code",
   "execution_count": null,
   "metadata": {},
   "outputs": [],
   "source": [
    "import torch\n",
    "from torchdrug import core, datasets, models, tasks\n",
    "from torch import nn, optim\n",
    "from collections import defaultdict"
   ]
  },
  {
   "cell_type": "code",
   "execution_count": null,
   "metadata": {},
   "outputs": [],
   "source": [
    "dataset = datasets.ZINC250k(\n",
    "    \"~/molecule-datasets/\", kekulize=True, atom_feature=\"symbol\"\n",
    ")\n",
    "\n",
    "model = models.RGCN(\n",
    "    input_dim=dataset.node_feature_dim,\n",
    "    num_relation=dataset.num_bond_type,\n",
    "    hidden_dims=[256, 256, 256, 256],\n",
    "    batch_norm=False,\n",
    ")\n",
    "\n",
    "task = tasks.GCPNGeneration(\n",
    "    model,\n",
    "    dataset.atom_types,\n",
    "    max_edge_unroll=12,\n",
    "    max_node=38,\n",
    "    task=\"qed\",\n",
    "    criterion=(\"ppo\", \"nll\"),\n",
    "    reward_temperature=1,\n",
    "    agent_update_interval=3,\n",
    "    gamma=0.9,\n",
    ")\n"
   ]
  },
  {
   "cell_type": "code",
   "execution_count": null,
   "metadata": {},
   "outputs": [],
   "source": [
    "optimizer = optim.Adam(task.parameters(), lr=1e-5)\n",
    "solver = core.Engine(\n",
    "    task, dataset, None, None, optimizer, gpus=(0,), batch_size=16, log_interval=10\n",
    ")\n",
    "\n",
    "solver.load(\n",
    "    \"/home/akhanna2/data/git_stage/machine_learning_with_chemistry/torch_drug/molecule_generation/gcpn/graphgeneration/gcpn_zinc250k_1epoch.pkl\",\n",
    "    load_optimizer=False,\n",
    ")"
   ]
  },
  {
   "cell_type": "code",
   "execution_count": null,
   "metadata": {},
   "outputs": [],
   "source": [
    "# RL finetuning\n",
    "solver.train(num_epoch=10)\n",
    "solver.save(\n",
    "    \"/home/akhanna2/data/git_stage/machine_learning_with_chemistry/torch_drug/molecule_generation/gcpn/graphgeneration/gcpn_zinc250k_1epoch_finetune_QED.pkl\"\n",
    ")"
   ]
  },
  {
   "cell_type": "code",
   "execution_count": null,
   "metadata": {},
   "outputs": [],
   "source": [
    "results = task.generate(num_sample=32, max_resample=5)\n",
    "print(results.to_smiles())\n"
   ]
  }
 ],
 "metadata": {
  "language_info": {
   "name": "python"
  },
  "orig_nbformat": 4
 },
 "nbformat": 4,
 "nbformat_minor": 2
}
