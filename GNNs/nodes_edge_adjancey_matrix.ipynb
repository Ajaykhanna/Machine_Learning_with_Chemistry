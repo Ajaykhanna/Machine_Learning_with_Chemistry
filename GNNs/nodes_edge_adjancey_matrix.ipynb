{
 "cells": [
  {
   "cell_type": "code",
   "execution_count": null,
   "metadata": {},
   "outputs": [
    {
     "ename": "",
     "evalue": "",
     "output_type": "error",
     "traceback": [
      "\u001b[1;31mRunning cells with 'qm_env' requires the ipykernel package.\n",
      "\u001b[1;31mRun the following command to install 'ipykernel' into the Python environment. \n",
      "\u001b[1;31mCommand: 'conda install -n qm_env ipykernel --update-deps --force-reinstall'"
     ]
    }
   ],
   "source": [
    "nodes = {1,2,3,4,5}\n",
    "edge_set = {(1,2), (2,4), (3,2), (3,4), (4,3), (5,3), (5,4)}\n",
    "\n",
    "def adjacency_matrix(nodes, edges):\n",
    "    working_matrix = [[0]*len(nodes) for i in range(len(nodes))]\n",
    "    node_to_idx = {node_label: i for i, node_label in enumerate(sorted(nodes))}\n",
    "    for edge in edges:\n",
    "        print(f'edge: {edge}')\n",
    "        u, v = edge\n",
    "        print(f'U: {u} and V: {v}')\n",
    "        u_i = node_to_idx[u]\n",
    "        v_i = node_to_idx[v]\n",
    "        print(f'Ui: {u_i} and Vi: {v_i}')\n",
    "    return working_matrix\n",
    "\n",
    "adjacency_matrix(nodes, edge_set)"
   ]
  },
  {
   "cell_type": "code",
   "execution_count": 3,
   "metadata": {},
   "outputs": [
    {
     "data": {
      "text/plain": [
       "{1: 0, 2: 1, 3: 2, 4: 3, 5: 4}"
      ]
     },
     "execution_count": 3,
     "metadata": {},
     "output_type": "execute_result"
    }
   ],
   "source": [
    "node_to_idx = {node_label: i for i, node_label in enumerate(sorted(nodes))}\n",
    "node_to_idx"
   ]
  },
  {
   "cell_type": "code",
   "execution_count": null,
   "metadata": {},
   "outputs": [],
   "source": []
  }
 ],
 "metadata": {
  "kernelspec": {
   "display_name": "qm_env",
   "language": "python",
   "name": "python3"
  },
  "language_info": {
   "codemirror_mode": {
    "name": "ipython",
    "version": 3
   },
   "file_extension": ".py",
   "mimetype": "text/x-python",
   "name": "python",
   "nbconvert_exporter": "python",
   "pygments_lexer": "ipython3",
   "version": "3.10.8"
  },
  "orig_nbformat": 4,
  "vscode": {
   "interpreter": {
    "hash": "46786924d278eb604295812c4eada4db622b2ce3cac00dcfb4285005d7335089"
   }
  }
 },
 "nbformat": 4,
 "nbformat_minor": 2
}
