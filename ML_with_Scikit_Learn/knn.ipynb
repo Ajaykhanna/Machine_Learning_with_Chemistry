{
 "cells": [
  {
   "cell_type": "code",
   "execution_count": 16,
   "metadata": {},
   "outputs": [],
   "source": [
    "import numpy as np\n",
    "\n",
    "# Libraies For Unsupervises KNN\n",
    "from sklearn.neighbors import NearestNeighbors\n",
    "\n",
    "# Load and Extracting Scikit-learn Dataset\n",
    "from sklearn.datasets import load_iris\n",
    "from sklearn.model_selection import train_test_split\n",
    "from sklearn.preprocessing import StandardScaler\n",
    "\n",
    "# Library For Supervised KNN\n",
    "from sklearn.neighbors import KNeighborsRegressor\n",
    "from sklearn.neighbors import RadiusNeighborsRegressor"
   ]
  },
  {
   "cell_type": "markdown",
   "metadata": {},
   "source": [
    "## Unsupervised KNN\n",
    "___"
   ]
  },
  {
   "cell_type": "code",
   "execution_count": 17,
   "metadata": {},
   "outputs": [
    {
     "data": {
      "text/html": [
       "<style>#sk-container-id-2 {color: black;}#sk-container-id-2 pre{padding: 0;}#sk-container-id-2 div.sk-toggleable {background-color: white;}#sk-container-id-2 label.sk-toggleable__label {cursor: pointer;display: block;width: 100%;margin-bottom: 0;padding: 0.3em;box-sizing: border-box;text-align: center;}#sk-container-id-2 label.sk-toggleable__label-arrow:before {content: \"▸\";float: left;margin-right: 0.25em;color: #696969;}#sk-container-id-2 label.sk-toggleable__label-arrow:hover:before {color: black;}#sk-container-id-2 div.sk-estimator:hover label.sk-toggleable__label-arrow:before {color: black;}#sk-container-id-2 div.sk-toggleable__content {max-height: 0;max-width: 0;overflow: hidden;text-align: left;background-color: #f0f8ff;}#sk-container-id-2 div.sk-toggleable__content pre {margin: 0.2em;color: black;border-radius: 0.25em;background-color: #f0f8ff;}#sk-container-id-2 input.sk-toggleable__control:checked~div.sk-toggleable__content {max-height: 200px;max-width: 100%;overflow: auto;}#sk-container-id-2 input.sk-toggleable__control:checked~label.sk-toggleable__label-arrow:before {content: \"▾\";}#sk-container-id-2 div.sk-estimator input.sk-toggleable__control:checked~label.sk-toggleable__label {background-color: #d4ebff;}#sk-container-id-2 div.sk-label input.sk-toggleable__control:checked~label.sk-toggleable__label {background-color: #d4ebff;}#sk-container-id-2 input.sk-hidden--visually {border: 0;clip: rect(1px 1px 1px 1px);clip: rect(1px, 1px, 1px, 1px);height: 1px;margin: -1px;overflow: hidden;padding: 0;position: absolute;width: 1px;}#sk-container-id-2 div.sk-estimator {font-family: monospace;background-color: #f0f8ff;border: 1px dotted black;border-radius: 0.25em;box-sizing: border-box;margin-bottom: 0.5em;}#sk-container-id-2 div.sk-estimator:hover {background-color: #d4ebff;}#sk-container-id-2 div.sk-parallel-item::after {content: \"\";width: 100%;border-bottom: 1px solid gray;flex-grow: 1;}#sk-container-id-2 div.sk-label:hover label.sk-toggleable__label {background-color: #d4ebff;}#sk-container-id-2 div.sk-serial::before {content: \"\";position: absolute;border-left: 1px solid gray;box-sizing: border-box;top: 0;bottom: 0;left: 50%;z-index: 0;}#sk-container-id-2 div.sk-serial {display: flex;flex-direction: column;align-items: center;background-color: white;padding-right: 0.2em;padding-left: 0.2em;position: relative;}#sk-container-id-2 div.sk-item {position: relative;z-index: 1;}#sk-container-id-2 div.sk-parallel {display: flex;align-items: stretch;justify-content: center;background-color: white;position: relative;}#sk-container-id-2 div.sk-item::before, #sk-container-id-2 div.sk-parallel-item::before {content: \"\";position: absolute;border-left: 1px solid gray;box-sizing: border-box;top: 0;bottom: 0;left: 50%;z-index: -1;}#sk-container-id-2 div.sk-parallel-item {display: flex;flex-direction: column;z-index: 1;position: relative;background-color: white;}#sk-container-id-2 div.sk-parallel-item:first-child::after {align-self: flex-end;width: 50%;}#sk-container-id-2 div.sk-parallel-item:last-child::after {align-self: flex-start;width: 50%;}#sk-container-id-2 div.sk-parallel-item:only-child::after {width: 0;}#sk-container-id-2 div.sk-dashed-wrapped {border: 1px dashed gray;margin: 0 0.4em 0.5em 0.4em;box-sizing: border-box;padding-bottom: 0.4em;background-color: white;}#sk-container-id-2 div.sk-label label {font-family: monospace;font-weight: bold;display: inline-block;line-height: 1.2em;}#sk-container-id-2 div.sk-label-container {text-align: center;}#sk-container-id-2 div.sk-container {/* jupyter's `normalize.less` sets `[hidden] { display: none; }` but bootstrap.min.css set `[hidden] { display: none !important; }` so we also need the `!important` here to be able to override the default hidden behavior on the sphinx rendered scikit-learn.org. See: https://github.com/scikit-learn/scikit-learn/issues/21755 */display: inline-block !important;position: relative;}#sk-container-id-2 div.sk-text-repr-fallback {display: none;}</style><div id=\"sk-container-id-2\" class=\"sk-top-container\"><div class=\"sk-text-repr-fallback\"><pre>NearestNeighbors(algorithm=&#x27;ball_tree&#x27;, n_neighbors=3)</pre><b>In a Jupyter environment, please rerun this cell to show the HTML representation or trust the notebook. <br />On GitHub, the HTML representation is unable to render, please try loading this page with nbviewer.org.</b></div><div class=\"sk-container\" hidden><div class=\"sk-item\"><div class=\"sk-estimator sk-toggleable\"><input class=\"sk-toggleable__control sk-hidden--visually\" id=\"sk-estimator-id-2\" type=\"checkbox\" checked><label for=\"sk-estimator-id-2\" class=\"sk-toggleable__label sk-toggleable__label-arrow\">NearestNeighbors</label><div class=\"sk-toggleable__content\"><pre>NearestNeighbors(algorithm=&#x27;ball_tree&#x27;, n_neighbors=3)</pre></div></div></div></div></div>"
      ],
      "text/plain": [
       "NearestNeighbors(algorithm='ball_tree', n_neighbors=3)"
      ]
     },
     "execution_count": 17,
     "metadata": {},
     "output_type": "execute_result"
    }
   ],
   "source": [
    "Input_data = np.array([[-1, 1], [-2, 2], [-3, 3], [1, 2], [2, 3], [3, 4],[4, 5]])\n",
    "nrst_neigh = NearestNeighbors(n_neighbors = 3, algorithm = 'ball_tree')\n",
    "nrst_neigh.fit(Input_data)"
   ]
  },
  {
   "cell_type": "code",
   "execution_count": 24,
   "metadata": {},
   "outputs": [
    {
     "name": "stdout",
     "output_type": "stream",
     "text": [
      "Distances:\n",
      " [[0.         1.41421356 2.23606798]\n",
      " [0.         1.41421356 1.41421356]\n",
      " [0.         1.41421356 2.82842712]\n",
      " [0.         1.41421356 2.23606798]\n",
      " [0.         1.41421356 1.41421356]\n",
      " [0.         1.41421356 1.41421356]\n",
      " [0.         1.41421356 2.82842712]] \n",
      "Indices:\n",
      " [[0 1 3]\n",
      " [1 2 0]\n",
      " [2 1 0]\n",
      " [3 4 0]\n",
      " [4 5 3]\n",
      " [5 6 4]\n",
      " [6 5 4]]\n"
     ]
    }
   ],
   "source": [
    "distances, indices = nrst_neigh.kneighbors(Input_data)\n",
    "print(f'Distances:\\n {distances} \\nIndices:\\n {indices}')"
   ]
  },
  {
   "cell_type": "code",
   "execution_count": 19,
   "metadata": {},
   "outputs": [
    {
     "data": {
      "text/plain": [
       "array([[1., 1., 0., 1., 0., 0., 0.],\n",
       "       [1., 1., 1., 0., 0., 0., 0.],\n",
       "       [1., 1., 1., 0., 0., 0., 0.],\n",
       "       [1., 0., 0., 1., 1., 0., 0.],\n",
       "       [0., 0., 0., 1., 1., 1., 0.],\n",
       "       [0., 0., 0., 0., 1., 1., 1.],\n",
       "       [0., 0., 0., 0., 1., 1., 1.]])"
      ]
     },
     "execution_count": 19,
     "metadata": {},
     "output_type": "execute_result"
    }
   ],
   "source": [
    "nrst_neigh.kneighbors_graph(Input_data).toarray()"
   ]
  },
  {
   "cell_type": "markdown",
   "metadata": {},
   "source": [
    "## Supervised KNN Learning\n",
    "**KNeighborsRegressor**:\n",
    "\n",
    "Uses a specified number of nearest neighbor points (k) to make predictions on new data points.\n",
    "\n",
    "Makes predictions by taking the average of the target values of the k nearest neighbors.\n",
    "\n",
    "Requires choosing a good value for k - lower values lead to overfitting, higher values underfit.\n",
    "\n",
    "Computes distances using the Minkowski metric to find nearest neighbors. Common choices are Euclidean (l2) and Manhattan (l1) distances.\n",
    "\n",
    "Can weigh nearer neighbors more heavily than farther ones using kernel weighting.\n",
    "\n",
    "Simple and intuitive approach, but doesn't generalize as well as more complex regressors.\n",
    "\n",
    "**RadiusNeighborsClassifier**:\n",
    "\n",
    "Finds all neighbors within a fixed radius r around a point, rather than finding k nearest neighbors.\n",
    "\n",
    "Radio can be tuned as a hyperparameter. Lower radius risks overfitting, higher risks underfitting.\n",
    "\n",
    "Weights nearby points higher than distant points within the radius.\n",
    "\n",
    "Scaling features is important so distances are measured uniformly.\n",
    "\n",
    "Has advantages over KNN when data is not uniformly dense.\n",
    "\n",
    "Can be more effective with proper radius tuning, but harder to pick a good parameter.\n",
    "___"
   ]
  },
  {
   "cell_type": "code",
   "execution_count": 28,
   "metadata": {},
   "outputs": [
    {
     "name": "stdout",
     "output_type": "stream",
     "text": [
      "The MSE is: 4.4333349609375\n",
      "[0.66666667]\n"
     ]
    }
   ],
   "source": [
    "\"\"\"\n",
    "This codeblock demonstrates a scikit-learning workflow for regression using the KNeighborsRegressor on the Iris dataset.\n",
    "\"\"\"\n",
    "\n",
    "iris = load_iris()\n",
    "\n",
    "\"\"\"\n",
    "Load the Iris flower dataset and extract the features (X) and targets (y).\n",
    "\"\"\"\n",
    "\n",
    "X = iris.data[:, :4]  \n",
    "y = iris.target\n",
    "\n",
    "\"\"\"\n",
    "Split the data into 80% train and 20% test sets.\n",
    "\"\"\"\n",
    "\n",
    "X_train, X_test, y_train, y_test = train_test_split(X, y, test_size=0.20)\n",
    "\n",
    "\"\"\"\n",
    "Scale the feature data using StandardScaler.\n",
    "\"\"\"\n",
    "\n",
    "scaler = StandardScaler() \n",
    "scaler.fit(X_train)\n",
    "X_train = scaler.transform(X_train)\n",
    "X_test = scaler.transform(X_test)\n",
    "\n",
    "\"\"\"\n",
    "Train a KNeighborsRegressor model on the training data.\n",
    "\"\"\"\n",
    "\n",
    "knnr = KNeighborsRegressor(n_neighbors=8)\n",
    "knnr.fit(X_train, y_train)\n",
    "\n",
    "\"\"\"\n",
    "Evaluate model performance using mean squared error on test set.\n",
    "\"\"\"\n",
    "\n",
    "print (\"The MSE is:\",format(np.power(y-knnr.predict(X),4).mean()))\n",
    "\n",
    "\"\"\"\n",
    "Create a simple dummy regression dataset.\n",
    "\"\"\"\n",
    "\n",
    "X = [[0], [1], [2], [3]]\n",
    "y = [0, 0, 1, 1]\n",
    "\n",
    "\"\"\"\n",
    "Train another KNeighborsRegressor on the dummy data.\n",
    "\"\"\"\n",
    "\n",
    "knnr = KNeighborsRegressor(n_neighbors=3) \n",
    "knnr.fit(X, y)\n",
    "\n",
    "\"\"\"\n",
    "Make a prediction on a new data point using the fitted model.\n",
    "\"\"\"\n",
    "\n",
    "print(knnr.predict([[2.5]]))"
   ]
  },
  {
   "cell_type": "markdown",
   "metadata": {},
   "source": [
    "### RadiusNeighborsRegressor\n",
    "____"
   ]
  },
  {
   "cell_type": "code",
   "execution_count": 29,
   "metadata": {},
   "outputs": [
    {
     "name": "stdout",
     "output_type": "stream",
     "text": [
      "The MSE is: 5.666666666666667\n",
      "[1.]\n"
     ]
    },
    {
     "name": "stderr",
     "output_type": "stream",
     "text": [
      "<__array_function__ internals>:200: RuntimeWarning: invalid value encountered in cast\n",
      "<__array_function__ internals>:200: RuntimeWarning: invalid value encountered in cast\n"
     ]
    }
   ],
   "source": [
    "\"\"\"\n",
    "This codeblock demonstrates a scikit-learning workflow for regression using RadiusNeighborsRegressor on the Iris dataset.\n",
    "\"\"\"\n",
    "\n",
    "\"\"\"\n",
    "Load the Iris dataset.\n",
    "\"\"\"\n",
    "\n",
    "iris = load_iris()\n",
    "\n",
    "X = iris.data[:, :4]\n",
    "y = iris.target\n",
    "\n",
    "\"\"\"\n",
    "Split data into 80% train and 20% test sets. \n",
    "\"\"\"\n",
    "\n",
    "X_train, X_test, y_train, y_test = train_test_split(X, y, test_size = 0.20)\n",
    "\n",
    "\"\"\"\n",
    "Scale the features using StandardScaler.\n",
    "\"\"\"\n",
    "\n",
    "scaler = StandardScaler()\n",
    "scaler.fit(X_train)\n",
    "\n",
    "X_train = scaler.transform(X_train)\n",
    "X_test = scaler.transform(X_test)\n",
    "\n",
    "\"\"\"\n",
    "Train a RadiusNeighborsRegressor model.\n",
    "\"\"\"\n",
    "\n",
    "knnr_r = RadiusNeighborsRegressor(radius = 1)\n",
    "knnr_r.fit(X_train, y_train)\n",
    "\n",
    "\"\"\"\n",
    "Evaluate model performance.\n",
    "\"\"\"\n",
    "\n",
    "print (\"The MSE is:\",format(np.power(y-knnr_r.predict(X),4).mean()))\n",
    "\n",
    "\"\"\"\n",
    "Create a simple dummy regression dataset.  \n",
    "\"\"\"\n",
    "\n",
    "X = [[0], [1], [2], [3]]\n",
    "y = [0, 0, 1, 1]\n",
    "\n",
    "\"\"\"\n",
    "Train a RadiusNeighborsRegressor on the dummy data.\n",
    "\"\"\"\n",
    "\n",
    "knnr_r = RadiusNeighborsRegressor(radius = 1)\n",
    "knnr_r.fit(X, y)\n",
    "\n",
    "\"\"\"\n",
    "Make a prediction on new data point.\n",
    "\"\"\"\n",
    "\n",
    "print(knnr_r.predict([[2.5]]))"
   ]
  }
 ],
 "metadata": {
  "kernelspec": {
   "display_name": "base",
   "language": "python",
   "name": "python3"
  },
  "language_info": {
   "codemirror_mode": {
    "name": "ipython",
    "version": 3
   },
   "file_extension": ".py",
   "mimetype": "text/x-python",
   "name": "python",
   "nbconvert_exporter": "python",
   "pygments_lexer": "ipython3",
   "version": "3.11.4"
  },
  "orig_nbformat": 4
 },
 "nbformat": 4,
 "nbformat_minor": 2
}
