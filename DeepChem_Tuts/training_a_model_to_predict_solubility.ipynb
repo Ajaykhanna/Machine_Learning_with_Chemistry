{
 "cells": [
  {
   "cell_type": "code",
   "execution_count": 4,
   "metadata": {},
   "outputs": [],
   "source": [
    "import deepchem as dc\n",
    "import tensorflow as tf\n",
    "import tensorflow.keras.layers as layers"
   ]
  },
  {
   "cell_type": "code",
   "execution_count": 5,
   "metadata": {},
   "outputs": [
    {
     "ename": "ImportError",
     "evalue": "DLL load failed while importing rdBase: The specified module could not be found.",
     "output_type": "error",
     "traceback": [
      "\u001b[1;31m---------------------------------------------------------------------------\u001b[0m",
      "\u001b[1;31mImportError\u001b[0m                               Traceback (most recent call last)",
      "\u001b[1;32mc:\\Users\\samth\\Box\\The_PHD\\deepchem\\training_a_model_to_predict_solubility.ipynb Cell 2\u001b[0m in \u001b[0;36m<cell line: 1>\u001b[1;34m()\u001b[0m\n\u001b[1;32m----> <a href='vscode-notebook-cell:/c%3A/Users/samth/Box/The_PHD/deepchem/training_a_model_to_predict_solubility.ipynb#ch0000001?line=0'>1</a>\u001b[0m tasks, datasets, transformers \u001b[39m=\u001b[39m dc\u001b[39m.\u001b[39;49mmolnet\u001b[39m.\u001b[39;49mload_delaney(featurizer\u001b[39m=\u001b[39;49m\u001b[39m'\u001b[39;49m\u001b[39mGraphConv\u001b[39;49m\u001b[39m'\u001b[39;49m)\n\u001b[0;32m      <a href='vscode-notebook-cell:/c%3A/Users/samth/Box/The_PHD/deepchem/training_a_model_to_predict_solubility.ipynb#ch0000001?line=1'>2</a>\u001b[0m train_dataset, valid_dataset, test_dataset \u001b[39m=\u001b[39m datasets\n",
      "File \u001b[1;32mc:\\ProgramData\\Anaconda3\\envs\\tf\\lib\\site-packages\\deepchem\\molnet\\load_function\\delaney_datasets.py:80\u001b[0m, in \u001b[0;36mload_delaney\u001b[1;34m(featurizer, splitter, transformers, reload, data_dir, save_dir, **kwargs)\u001b[0m\n\u001b[0;32m     34\u001b[0m \u001b[39m\"\"\"Load Delaney dataset\u001b[39;00m\n\u001b[0;32m     35\u001b[0m \n\u001b[0;32m     36\u001b[0m \u001b[39mThe Delaney (ESOL) dataset a regression dataset containing structures and\u001b[39;00m\n\u001b[1;32m   (...)\u001b[0m\n\u001b[0;32m     76\u001b[0m \u001b[39m   sciences 44.3 (2004): 1000-1005.\u001b[39;00m\n\u001b[0;32m     77\u001b[0m \u001b[39m\"\"\"\u001b[39;00m\n\u001b[0;32m     78\u001b[0m loader \u001b[39m=\u001b[39m _DelaneyLoader(featurizer, splitter, transformers, DELANEY_TASKS,\n\u001b[0;32m     79\u001b[0m                         data_dir, save_dir, \u001b[39m*\u001b[39m\u001b[39m*\u001b[39mkwargs)\n\u001b[1;32m---> 80\u001b[0m \u001b[39mreturn\u001b[39;00m loader\u001b[39m.\u001b[39;49mload_dataset(\u001b[39m'\u001b[39;49m\u001b[39mdelaney\u001b[39;49m\u001b[39m'\u001b[39;49m, reload)\n",
      "File \u001b[1;32mc:\\ProgramData\\Anaconda3\\envs\\tf\\lib\\site-packages\\deepchem\\molnet\\load_function\\molnet_loader.py:177\u001b[0m, in \u001b[0;36m_MolnetLoader.load_dataset\u001b[1;34m(self, name, reload)\u001b[0m\n\u001b[0;32m    174\u001b[0m \u001b[39m# Create the dataset\u001b[39;00m\n\u001b[0;32m    176\u001b[0m logger\u001b[39m.\u001b[39minfo(\u001b[39m\"\u001b[39m\u001b[39mAbout to featurize \u001b[39m\u001b[39m%s\u001b[39;00m\u001b[39m dataset.\u001b[39m\u001b[39m\"\u001b[39m \u001b[39m%\u001b[39m name)\n\u001b[1;32m--> 177\u001b[0m dataset \u001b[39m=\u001b[39m \u001b[39mself\u001b[39;49m\u001b[39m.\u001b[39;49mcreate_dataset()\n\u001b[0;32m    179\u001b[0m \u001b[39m# Split and transform the dataset.\u001b[39;00m\n\u001b[0;32m    181\u001b[0m \u001b[39mif\u001b[39;00m \u001b[39mself\u001b[39m\u001b[39m.\u001b[39msplitter \u001b[39mis\u001b[39;00m \u001b[39mNone\u001b[39;00m:\n",
      "File \u001b[1;32mc:\\ProgramData\\Anaconda3\\envs\\tf\\lib\\site-packages\\deepchem\\molnet\\load_function\\delaney_datasets.py:22\u001b[0m, in \u001b[0;36m_DelaneyLoader.create_dataset\u001b[1;34m(self)\u001b[0m\n\u001b[0;32m     19\u001b[0m   dc\u001b[39m.\u001b[39mutils\u001b[39m.\u001b[39mdata_utils\u001b[39m.\u001b[39mdownload_url(url\u001b[39m=\u001b[39mDELANEY_URL, dest_dir\u001b[39m=\u001b[39m\u001b[39mself\u001b[39m\u001b[39m.\u001b[39mdata_dir)\n\u001b[0;32m     20\u001b[0m loader \u001b[39m=\u001b[39m dc\u001b[39m.\u001b[39mdata\u001b[39m.\u001b[39mCSVLoader(\n\u001b[0;32m     21\u001b[0m     tasks\u001b[39m=\u001b[39m\u001b[39mself\u001b[39m\u001b[39m.\u001b[39mtasks, feature_field\u001b[39m=\u001b[39m\u001b[39m\"\u001b[39m\u001b[39msmiles\u001b[39m\u001b[39m\"\u001b[39m, featurizer\u001b[39m=\u001b[39m\u001b[39mself\u001b[39m\u001b[39m.\u001b[39mfeaturizer)\n\u001b[1;32m---> 22\u001b[0m \u001b[39mreturn\u001b[39;00m loader\u001b[39m.\u001b[39;49mcreate_dataset(dataset_file, shard_size\u001b[39m=\u001b[39;49m\u001b[39m8192\u001b[39;49m)\n",
      "File \u001b[1;32mc:\\ProgramData\\Anaconda3\\envs\\tf\\lib\\site-packages\\deepchem\\data\\data_loader.py:227\u001b[0m, in \u001b[0;36mDataLoader.create_dataset\u001b[1;34m(self, inputs, data_dir, shard_size)\u001b[0m\n\u001b[0;32m    223\u001b[0m     logger\u001b[39m.\u001b[39minfo(\u001b[39m\"\u001b[39m\u001b[39mTIMING: featurizing shard \u001b[39m\u001b[39m%d\u001b[39;00m\u001b[39m took \u001b[39m\u001b[39m%0.3f\u001b[39;00m\u001b[39m s\u001b[39m\u001b[39m\"\u001b[39m \u001b[39m%\u001b[39m\n\u001b[0;32m    224\u001b[0m                 (shard_num, time2 \u001b[39m-\u001b[39m time1))\n\u001b[0;32m    225\u001b[0m     \u001b[39myield\u001b[39;00m X, y, w, ids\n\u001b[1;32m--> 227\u001b[0m \u001b[39mreturn\u001b[39;00m DiskDataset\u001b[39m.\u001b[39;49mcreate_dataset(shard_generator(), data_dir, \u001b[39mself\u001b[39;49m\u001b[39m.\u001b[39;49mtasks)\n",
      "File \u001b[1;32mc:\\ProgramData\\Anaconda3\\envs\\tf\\lib\\site-packages\\deepchem\\data\\datasets.py:1219\u001b[0m, in \u001b[0;36mDiskDataset.create_dataset\u001b[1;34m(shard_generator, data_dir, tasks)\u001b[0m\n\u001b[0;32m   1217\u001b[0m metadata_rows \u001b[39m=\u001b[39m []\n\u001b[0;32m   1218\u001b[0m time1 \u001b[39m=\u001b[39m time\u001b[39m.\u001b[39mtime()\n\u001b[1;32m-> 1219\u001b[0m \u001b[39mfor\u001b[39;00m shard_num, (X, y, w, ids) \u001b[39min\u001b[39;00m \u001b[39menumerate\u001b[39m(shard_generator):\n\u001b[0;32m   1220\u001b[0m   basename \u001b[39m=\u001b[39m \u001b[39m\"\u001b[39m\u001b[39mshard-\u001b[39m\u001b[39m%d\u001b[39;00m\u001b[39m\"\u001b[39m \u001b[39m%\u001b[39m shard_num\n\u001b[0;32m   1221\u001b[0m   metadata_rows\u001b[39m.\u001b[39mappend(\n\u001b[0;32m   1222\u001b[0m       DiskDataset\u001b[39m.\u001b[39mwrite_data_to_disk(data_dir, basename, X, y, w, ids))\n",
      "File \u001b[1;32mc:\\ProgramData\\Anaconda3\\envs\\tf\\lib\\site-packages\\deepchem\\data\\data_loader.py:207\u001b[0m, in \u001b[0;36mDataLoader.create_dataset.<locals>.shard_generator\u001b[1;34m()\u001b[0m\n\u001b[0;32m    205\u001b[0m \u001b[39mfor\u001b[39;00m shard_num, shard \u001b[39min\u001b[39;00m \u001b[39menumerate\u001b[39m(\u001b[39mself\u001b[39m\u001b[39m.\u001b[39m_get_shards(inputs, shard_size)):\n\u001b[0;32m    206\u001b[0m   time1 \u001b[39m=\u001b[39m time\u001b[39m.\u001b[39mtime()\n\u001b[1;32m--> 207\u001b[0m   X, valid_inds \u001b[39m=\u001b[39m \u001b[39mself\u001b[39;49m\u001b[39m.\u001b[39;49m_featurize_shard(shard)\n\u001b[0;32m    208\u001b[0m   ids \u001b[39m=\u001b[39m shard[\u001b[39mself\u001b[39m\u001b[39m.\u001b[39mid_field]\u001b[39m.\u001b[39mvalues\n\u001b[0;32m    209\u001b[0m   ids \u001b[39m=\u001b[39m ids[valid_inds]\n",
      "File \u001b[1;32mc:\\ProgramData\\Anaconda3\\envs\\tf\\lib\\site-packages\\deepchem\\data\\data_loader.py:414\u001b[0m, in \u001b[0;36mCSVLoader._featurize_shard\u001b[1;34m(self, shard)\u001b[0m\n\u001b[0;32m    411\u001b[0m \u001b[39mif\u001b[39;00m \u001b[39mself\u001b[39m\u001b[39m.\u001b[39mfeaturizer \u001b[39mis\u001b[39;00m \u001b[39mNone\u001b[39;00m:\n\u001b[0;32m    412\u001b[0m   \u001b[39mraise\u001b[39;00m \u001b[39mValueError\u001b[39;00m(\n\u001b[0;32m    413\u001b[0m       \u001b[39m\"\u001b[39m\u001b[39mfeaturizer must be specified in constructor to featurizer data/\u001b[39m\u001b[39m\"\u001b[39m)\n\u001b[1;32m--> 414\u001b[0m features \u001b[39m=\u001b[39m [elt \u001b[39mfor\u001b[39;00m elt \u001b[39min\u001b[39;00m \u001b[39mself\u001b[39;49m\u001b[39m.\u001b[39;49mfeaturizer(shard[\u001b[39mself\u001b[39;49m\u001b[39m.\u001b[39;49mfeature_field])]\n\u001b[0;32m    415\u001b[0m valid_inds \u001b[39m=\u001b[39m np\u001b[39m.\u001b[39marray(\n\u001b[0;32m    416\u001b[0m     [\u001b[39m1\u001b[39m \u001b[39mif\u001b[39;00m np\u001b[39m.\u001b[39marray(elt)\u001b[39m.\u001b[39msize \u001b[39m>\u001b[39m \u001b[39m0\u001b[39m \u001b[39melse\u001b[39;00m \u001b[39m0\u001b[39m \u001b[39mfor\u001b[39;00m elt \u001b[39min\u001b[39;00m features], dtype\u001b[39m=\u001b[39m\u001b[39mbool\u001b[39m)\n\u001b[0;32m    417\u001b[0m features \u001b[39m=\u001b[39m [\n\u001b[0;32m    418\u001b[0m     elt \u001b[39mfor\u001b[39;00m (is_valid, elt) \u001b[39min\u001b[39;00m \u001b[39mzip\u001b[39m(valid_inds, features) \u001b[39mif\u001b[39;00m is_valid\n\u001b[0;32m    419\u001b[0m ]\n",
      "File \u001b[1;32mc:\\ProgramData\\Anaconda3\\envs\\tf\\lib\\site-packages\\deepchem\\feat\\base_classes.py:70\u001b[0m, in \u001b[0;36mFeaturizer.__call__\u001b[1;34m(self, datapoints, **kwargs)\u001b[0m\n\u001b[0;32m     60\u001b[0m \u001b[39mdef\u001b[39;00m \u001b[39m__call__\u001b[39m(\u001b[39mself\u001b[39m, datapoints: Iterable[Any], \u001b[39m*\u001b[39m\u001b[39m*\u001b[39mkwargs):\n\u001b[0;32m     61\u001b[0m   \u001b[39m\"\"\"Calculate features for datapoints.\u001b[39;00m\n\u001b[0;32m     62\u001b[0m \n\u001b[0;32m     63\u001b[0m \u001b[39m  `**kwargs` will get passed directly to `Featurizer.featurize`\u001b[39;00m\n\u001b[1;32m   (...)\u001b[0m\n\u001b[0;32m     68\u001b[0m \u001b[39m    Any blob of data you like. Subclasss should instantiate this.\u001b[39;00m\n\u001b[0;32m     69\u001b[0m \u001b[39m  \"\"\"\u001b[39;00m\n\u001b[1;32m---> 70\u001b[0m   \u001b[39mreturn\u001b[39;00m \u001b[39mself\u001b[39m\u001b[39m.\u001b[39mfeaturize(datapoints, \u001b[39m*\u001b[39m\u001b[39m*\u001b[39mkwargs)\n",
      "File \u001b[1;32mc:\\ProgramData\\Anaconda3\\envs\\tf\\lib\\site-packages\\deepchem\\feat\\graph_features.py:785\u001b[0m, in \u001b[0;36mConvMolFeaturizer.featurize\u001b[1;34m(self, datapoints, log_every_n, **kwargs)\u001b[0m\n\u001b[0;32m    780\u001b[0m   datapoints \u001b[39m=\u001b[39m kwargs\u001b[39m.\u001b[39mget(\u001b[39m\"\u001b[39m\u001b[39mmolecules\u001b[39m\u001b[39m\"\u001b[39m)\n\u001b[0;32m    781\u001b[0m   \u001b[39mraise\u001b[39;00m \u001b[39mDeprecationWarning\u001b[39;00m(\n\u001b[0;32m    782\u001b[0m       \u001b[39m'\u001b[39m\u001b[39mMolecules is being phased out as a parameter, please pass \u001b[39m\u001b[39m\"\u001b[39m\u001b[39mdatapoints\u001b[39m\u001b[39m\"\u001b[39m\u001b[39m instead.\u001b[39m\u001b[39m'\u001b[39m\n\u001b[0;32m    783\u001b[0m   )\n\u001b[1;32m--> 785\u001b[0m features \u001b[39m=\u001b[39m \u001b[39msuper\u001b[39;49m(ConvMolFeaturizer, \u001b[39mself\u001b[39;49m)\u001b[39m.\u001b[39;49mfeaturize(\n\u001b[0;32m    786\u001b[0m     datapoints, log_every_n\u001b[39m=\u001b[39;49m\u001b[39m1000\u001b[39;49m)\n\u001b[0;32m    787\u001b[0m \u001b[39mif\u001b[39;00m \u001b[39mself\u001b[39m\u001b[39m.\u001b[39mper_atom_fragmentation:\n\u001b[0;32m    788\u001b[0m   \u001b[39m# create temporary valid ids serving to filter out failed featurizations from every sublist\u001b[39;00m\n\u001b[0;32m    789\u001b[0m   \u001b[39m# of features (i.e. every molecules' frags list), and also totally failed sublists.\u001b[39;00m\n\u001b[0;32m    790\u001b[0m   \u001b[39m# This makes output digestable by Loaders\u001b[39;00m\n\u001b[0;32m    791\u001b[0m   valid_frag_inds \u001b[39m=\u001b[39m [[\n\u001b[0;32m    792\u001b[0m       \u001b[39mTrue\u001b[39;00m \u001b[39mif\u001b[39;00m np\u001b[39m.\u001b[39marray(elt)\u001b[39m.\u001b[39msize \u001b[39m>\u001b[39m \u001b[39m0\u001b[39m \u001b[39melse\u001b[39;00m \u001b[39mFalse\u001b[39;00m \u001b[39mfor\u001b[39;00m elt \u001b[39min\u001b[39;00m f\n\u001b[0;32m    793\u001b[0m   ] \u001b[39mfor\u001b[39;00m f \u001b[39min\u001b[39;00m features]\n",
      "File \u001b[1;32mc:\\ProgramData\\Anaconda3\\envs\\tf\\lib\\site-packages\\deepchem\\feat\\base_classes.py:262\u001b[0m, in \u001b[0;36mMolecularFeaturizer.featurize\u001b[1;34m(self, datapoints, log_every_n, **kwargs)\u001b[0m\n\u001b[0;32m    246\u001b[0m \u001b[39m\"\"\"Calculate features for molecules.\u001b[39;00m\n\u001b[0;32m    247\u001b[0m \n\u001b[0;32m    248\u001b[0m \u001b[39mParameters\u001b[39;00m\n\u001b[1;32m   (...)\u001b[0m\n\u001b[0;32m    259\u001b[0m \u001b[39m  A numpy array containing a featurized representation of `datapoints`.\u001b[39;00m\n\u001b[0;32m    260\u001b[0m \u001b[39m\"\"\"\u001b[39;00m\n\u001b[0;32m    261\u001b[0m \u001b[39mtry\u001b[39;00m:\n\u001b[1;32m--> 262\u001b[0m   \u001b[39mfrom\u001b[39;00m \u001b[39mrdkit\u001b[39;00m \u001b[39mimport\u001b[39;00m Chem\n\u001b[0;32m    263\u001b[0m   \u001b[39mfrom\u001b[39;00m \u001b[39mrdkit\u001b[39;00m\u001b[39m.\u001b[39;00m\u001b[39mChem\u001b[39;00m \u001b[39mimport\u001b[39;00m rdmolfiles\n\u001b[0;32m    264\u001b[0m   \u001b[39mfrom\u001b[39;00m \u001b[39mrdkit\u001b[39;00m\u001b[39m.\u001b[39;00m\u001b[39mChem\u001b[39;00m \u001b[39mimport\u001b[39;00m rdmolops\n",
      "File \u001b[1;32mc:\\ProgramData\\Anaconda3\\envs\\tf\\lib\\site-packages\\rdkit\\__init__.py:38\u001b[0m, in \u001b[0;36m<module>\u001b[1;34m\u001b[0m\n\u001b[0;32m     34\u001b[0m \u001b[39mimport\u001b[39;00m \u001b[39msys\u001b[39;00m\n\u001b[0;32m     36\u001b[0m \u001b[39m# Need to import rdBase to properly wrap exceptions\u001b[39;00m\n\u001b[0;32m     37\u001b[0m \u001b[39m# otherwise they will leak memory\u001b[39;00m\n\u001b[1;32m---> 38\u001b[0m \u001b[39mfrom\u001b[39;00m \u001b[39m.\u001b[39;00m \u001b[39mimport\u001b[39;00m rdBase\n\u001b[0;32m     40\u001b[0m \u001b[39mtry\u001b[39;00m:\n\u001b[0;32m     41\u001b[0m   \u001b[39mfrom\u001b[39;00m \u001b[39m.\u001b[39;00m\u001b[39mrdBase\u001b[39;00m \u001b[39mimport\u001b[39;00m rdkitVersion \u001b[39mas\u001b[39;00m __version__\n",
      "\u001b[1;31mImportError\u001b[0m: DLL load failed while importing rdBase: The specified module could not be found."
     ]
    }
   ],
   "source": [
    "tasks, datasets, transformers = dc.molnet.load_delaney(featurizer='GraphConv')\n",
    "train_dataset, valid_dataset, test_dataset = datasets"
   ]
  },
  {
   "cell_type": "code",
   "execution_count": null,
   "metadata": {},
   "outputs": [],
   "source": []
  }
 ],
 "metadata": {
  "kernelspec": {
   "display_name": "Python 3.9.12 ('tf')",
   "language": "python",
   "name": "python3"
  },
  "language_info": {
   "codemirror_mode": {
    "name": "ipython",
    "version": 3
   },
   "file_extension": ".py",
   "mimetype": "text/x-python",
   "name": "python",
   "nbconvert_exporter": "python",
   "pygments_lexer": "ipython3",
   "version": "3.9.12"
  },
  "orig_nbformat": 4,
  "vscode": {
   "interpreter": {
    "hash": "78ddfc3686b8b7161f2836984651df038ec9a0366954334fc42499f59ad2b3c8"
   }
  }
 },
 "nbformat": 4,
 "nbformat_minor": 2
}
